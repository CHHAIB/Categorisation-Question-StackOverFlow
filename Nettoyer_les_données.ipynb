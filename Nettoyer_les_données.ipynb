{
  "nbformat": 4,
  "nbformat_minor": 0,
  "metadata": {
    "colab": {
      "provenance": []
    },
    "kernelspec": {
      "name": "python3",
      "display_name": "Python 3"
    },
    "language_info": {
      "name": "python"
    }
  },
  "cells": [
    {
      "cell_type": "code",
      "execution_count": 1,
      "metadata": {
        "id": "SwpFJbPPdZVn"
      },
      "outputs": [],
      "source": [
        "import pandas as pd\n",
        "import numpy as np\n",
        "import matplotlib.pyplot as plt\n",
        "import datetime\n",
        "import nltk\n",
        "import re\n",
        "import string\n",
        "import seaborn as sns\n",
        "from wordcloud import WordCloud\n",
        "import spacy\n",
        "from bs4 import BeautifulSoup\n",
        "from tqdm import tqdm\n",
        "tqdm.pandas()"
      ]
    },
    {
      "cell_type": "code",
      "source": [
        "nltk.download('punkt')\n",
        "nltk.download('stopwords')"
      ],
      "metadata": {
        "colab": {
          "base_uri": "https://localhost:8080/"
        },
        "id": "P2KPautieOCO",
        "outputId": "b0caa3e9-0da1-4c98-8784-df6d4793ecbc"
      },
      "execution_count": 3,
      "outputs": [
        {
          "output_type": "stream",
          "name": "stderr",
          "text": [
            "[nltk_data] Downloading package punkt to /root/nltk_data...\n",
            "[nltk_data]   Unzipping tokenizers/punkt.zip.\n",
            "[nltk_data] Downloading package stopwords to /root/nltk_data...\n",
            "[nltk_data]   Unzipping corpora/stopwords.zip.\n"
          ]
        },
        {
          "output_type": "execute_result",
          "data": {
            "text/plain": [
              "True"
            ]
          },
          "metadata": {},
          "execution_count": 3
        }
      ]
    },
    {
      "cell_type": "code",
      "source": [
        "dataStack = pd.read_csv(\"/content/QueryResults.csv\")\n",
        "dataStack.head()"
      ],
      "metadata": {
        "colab": {
          "base_uri": "https://localhost:8080/",
          "height": 337
        },
        "id": "U4TRdhGNeT2e",
        "outputId": "dd461163-226e-4415-99a6-15ecd0fed00d"
      },
      "execution_count": 4,
      "outputs": [
        {
          "output_type": "execute_result",
          "data": {
            "text/plain": [
              "                                               title  \\\n",
              "0  Custom_Vision_Prediction_3.0 REST API Giving 4...   \n",
              "1    Cant get the query for AzureDiagnostics to work   \n",
              "2  Would it possible to use all memory of GPUs wi...   \n",
              "3  Command not found while using sudo [UBUNTU 19.04]   \n",
              "4  Get the prop and value of dynamically added in...   \n",
              "\n",
              "                                                body  \\\n",
              "0  <p>I am trying to call Custom Vision Predictio...   \n",
              "1  <p>I cant get this query to work. I got this q...   \n",
              "2  <p>There is a <code>model</code> and two GPUs....   \n",
              "3  <p>When i try to run xampp server using the co...   \n",
              "4  <p>There are two input fields in my form initi...   \n",
              "\n",
              "                                                tags  \n",
              "0  <azure><azure-cognitive-services><microsoft-cu...  \n",
              "1                       <azure><azure-log-analytics>  \n",
              "2                             <python><gpu><pytorch>  \n",
              "3                <php><apache><ubuntu><xampp><lampp>  \n",
              "4                 <react-native><redux><react-redux>  "
            ],
            "text/html": [
              "\n",
              "  <div id=\"df-4d9e5c05-41ba-475d-b36b-265e04109675\">\n",
              "    <div class=\"colab-df-container\">\n",
              "      <div>\n",
              "<style scoped>\n",
              "    .dataframe tbody tr th:only-of-type {\n",
              "        vertical-align: middle;\n",
              "    }\n",
              "\n",
              "    .dataframe tbody tr th {\n",
              "        vertical-align: top;\n",
              "    }\n",
              "\n",
              "    .dataframe thead th {\n",
              "        text-align: right;\n",
              "    }\n",
              "</style>\n",
              "<table border=\"1\" class=\"dataframe\">\n",
              "  <thead>\n",
              "    <tr style=\"text-align: right;\">\n",
              "      <th></th>\n",
              "      <th>title</th>\n",
              "      <th>body</th>\n",
              "      <th>tags</th>\n",
              "    </tr>\n",
              "  </thead>\n",
              "  <tbody>\n",
              "    <tr>\n",
              "      <th>0</th>\n",
              "      <td>Custom_Vision_Prediction_3.0 REST API Giving 4...</td>\n",
              "      <td>&lt;p&gt;I am trying to call Custom Vision Predictio...</td>\n",
              "      <td>&lt;azure&gt;&lt;azure-cognitive-services&gt;&lt;microsoft-cu...</td>\n",
              "    </tr>\n",
              "    <tr>\n",
              "      <th>1</th>\n",
              "      <td>Cant get the query for AzureDiagnostics to work</td>\n",
              "      <td>&lt;p&gt;I cant get this query to work. I got this q...</td>\n",
              "      <td>&lt;azure&gt;&lt;azure-log-analytics&gt;</td>\n",
              "    </tr>\n",
              "    <tr>\n",
              "      <th>2</th>\n",
              "      <td>Would it possible to use all memory of GPUs wi...</td>\n",
              "      <td>&lt;p&gt;There is a &lt;code&gt;model&lt;/code&gt; and two GPUs....</td>\n",
              "      <td>&lt;python&gt;&lt;gpu&gt;&lt;pytorch&gt;</td>\n",
              "    </tr>\n",
              "    <tr>\n",
              "      <th>3</th>\n",
              "      <td>Command not found while using sudo [UBUNTU 19.04]</td>\n",
              "      <td>&lt;p&gt;When i try to run xampp server using the co...</td>\n",
              "      <td>&lt;php&gt;&lt;apache&gt;&lt;ubuntu&gt;&lt;xampp&gt;&lt;lampp&gt;</td>\n",
              "    </tr>\n",
              "    <tr>\n",
              "      <th>4</th>\n",
              "      <td>Get the prop and value of dynamically added in...</td>\n",
              "      <td>&lt;p&gt;There are two input fields in my form initi...</td>\n",
              "      <td>&lt;react-native&gt;&lt;redux&gt;&lt;react-redux&gt;</td>\n",
              "    </tr>\n",
              "  </tbody>\n",
              "</table>\n",
              "</div>\n",
              "      <button class=\"colab-df-convert\" onclick=\"convertToInteractive('df-4d9e5c05-41ba-475d-b36b-265e04109675')\"\n",
              "              title=\"Convert this dataframe to an interactive table.\"\n",
              "              style=\"display:none;\">\n",
              "        \n",
              "  <svg xmlns=\"http://www.w3.org/2000/svg\" height=\"24px\"viewBox=\"0 0 24 24\"\n",
              "       width=\"24px\">\n",
              "    <path d=\"M0 0h24v24H0V0z\" fill=\"none\"/>\n",
              "    <path d=\"M18.56 5.44l.94 2.06.94-2.06 2.06-.94-2.06-.94-.94-2.06-.94 2.06-2.06.94zm-11 1L8.5 8.5l.94-2.06 2.06-.94-2.06-.94L8.5 2.5l-.94 2.06-2.06.94zm10 10l.94 2.06.94-2.06 2.06-.94-2.06-.94-.94-2.06-.94 2.06-2.06.94z\"/><path d=\"M17.41 7.96l-1.37-1.37c-.4-.4-.92-.59-1.43-.59-.52 0-1.04.2-1.43.59L10.3 9.45l-7.72 7.72c-.78.78-.78 2.05 0 2.83L4 21.41c.39.39.9.59 1.41.59.51 0 1.02-.2 1.41-.59l7.78-7.78 2.81-2.81c.8-.78.8-2.07 0-2.86zM5.41 20L4 18.59l7.72-7.72 1.47 1.35L5.41 20z\"/>\n",
              "  </svg>\n",
              "      </button>\n",
              "      \n",
              "  <style>\n",
              "    .colab-df-container {\n",
              "      display:flex;\n",
              "      flex-wrap:wrap;\n",
              "      gap: 12px;\n",
              "    }\n",
              "\n",
              "    .colab-df-convert {\n",
              "      background-color: #E8F0FE;\n",
              "      border: none;\n",
              "      border-radius: 50%;\n",
              "      cursor: pointer;\n",
              "      display: none;\n",
              "      fill: #1967D2;\n",
              "      height: 32px;\n",
              "      padding: 0 0 0 0;\n",
              "      width: 32px;\n",
              "    }\n",
              "\n",
              "    .colab-df-convert:hover {\n",
              "      background-color: #E2EBFA;\n",
              "      box-shadow: 0px 1px 2px rgba(60, 64, 67, 0.3), 0px 1px 3px 1px rgba(60, 64, 67, 0.15);\n",
              "      fill: #174EA6;\n",
              "    }\n",
              "\n",
              "    [theme=dark] .colab-df-convert {\n",
              "      background-color: #3B4455;\n",
              "      fill: #D2E3FC;\n",
              "    }\n",
              "\n",
              "    [theme=dark] .colab-df-convert:hover {\n",
              "      background-color: #434B5C;\n",
              "      box-shadow: 0px 1px 3px 1px rgba(0, 0, 0, 0.15);\n",
              "      filter: drop-shadow(0px 1px 2px rgba(0, 0, 0, 0.3));\n",
              "      fill: #FFFFFF;\n",
              "    }\n",
              "  </style>\n",
              "\n",
              "      <script>\n",
              "        const buttonEl =\n",
              "          document.querySelector('#df-4d9e5c05-41ba-475d-b36b-265e04109675 button.colab-df-convert');\n",
              "        buttonEl.style.display =\n",
              "          google.colab.kernel.accessAllowed ? 'block' : 'none';\n",
              "\n",
              "        async function convertToInteractive(key) {\n",
              "          const element = document.querySelector('#df-4d9e5c05-41ba-475d-b36b-265e04109675');\n",
              "          const dataTable =\n",
              "            await google.colab.kernel.invokeFunction('convertToInteractive',\n",
              "                                                     [key], {});\n",
              "          if (!dataTable) return;\n",
              "\n",
              "          const docLinkHtml = 'Like what you see? Visit the ' +\n",
              "            '<a target=\"_blank\" href=https://colab.research.google.com/notebooks/data_table.ipynb>data table notebook</a>'\n",
              "            + ' to learn more about interactive tables.';\n",
              "          element.innerHTML = '';\n",
              "          dataTable['output_type'] = 'display_data';\n",
              "          await google.colab.output.renderOutput(dataTable, element);\n",
              "          const docLink = document.createElement('div');\n",
              "          docLink.innerHTML = docLinkHtml;\n",
              "          element.appendChild(docLink);\n",
              "        }\n",
              "      </script>\n",
              "    </div>\n",
              "  </div>\n",
              "  "
            ]
          },
          "metadata": {},
          "execution_count": 4
        }
      ]
    },
    {
      "cell_type": "code",
      "source": [
        "def getListTag(listToWork,sep,years=\"All\"):\n",
        "    \"\"\" \n",
        "    Fonction qui compte le nombre de mots différents\n",
        "    listToWork : Dataframe\n",
        "    sep : Séparateur pour spliter\n",
        "    years : l'année pour laquelle on travaille\n",
        "    \"\"\"\n",
        "    tagList=[]\n",
        "    tempData = dataStack.copy()\n",
        "    for tags in tempData[listToWork]:\n",
        "        for mot in tags.split(sep):\n",
        "            tagList.append(mot)\n",
        "            \n",
        "    dfTagList = pd.DataFrame(tagList, columns=[\"Tag\"])\n",
        "    dfTagList = dfTagList.groupby(\"Tag\")\\\n",
        "        .agg(tagCount=pd.NamedAgg(column=\"Tag\", aggfunc=\"count\"))\n",
        "    dfTagList.sort_values(\"tagCount\", ascending=False, inplace=True)\n",
        "\n",
        "    return dfTagList"
      ],
      "metadata": {
        "id": "DTwSVVYde-Cp"
      },
      "execution_count": 5,
      "outputs": []
    },
    {
      "cell_type": "code",
      "source": [
        "def keep_info(listInfo,toKeep):\n",
        "    \"\"\"Return the list of information which is in the 'keep list'\"\"\"\n",
        "    loc = []\n",
        "    try:\n",
        "        if listInfo != 'nan':\n",
        "            for word in listInfo.split(','):\n",
        "                if word in toKeep.index:\n",
        "                    loc.append(word)\n",
        "    except:\n",
        "        print(\"Except \",listInfo)\n",
        "    return ','.join(loc)"
      ],
      "metadata": {
        "id": "F6llKJ6mfFwl"
      },
      "execution_count": 6,
      "outputs": []
    },
    {
      "cell_type": "code",
      "source": [
        "def nettoyageGe(listToClean):\n",
        "    \n",
        "    # Lower case\n",
        "    locList = listToClean.lower()\n",
        "\n",
        "    # Remove ponctuation sauf #\n",
        "    locList = re.sub('[^\\\\w\\\\s#]', '', locList)\n",
        "    # Remove digit\n",
        "    locList = re.sub(r'\\w*\\d+\\w*', '', locList)\n",
        "    # Remove links\n",
        "    locList = re.sub(r'http*\\S+', '', locList)\n",
        "    # Remove \\n\n",
        "    locList = locList.replace(\"\\n\",\" \")\n",
        "    # Change some words\n",
        "    locList = locList.replace(\"i'm\",\"i am\")\n",
        "    locList = locList.replace(\"i've\",\"i have\")\n",
        "    locList = locList.replace(\"i'd\",\"i would\")\n",
        "    locList = locList.replace(\"don't\",\"do not\")\n",
        "    locList = locList.replace(\"that's\",\"that is\")\n",
        "    # On supprime les espaces en trop\n",
        "    locList=\" \".join(locList.split())\n",
        "    locList = locList.replace(\"c #\",\"c#\")\n",
        "    locList = locList.replace(\"c#\",\"cSharp\")\n",
        "    \n",
        "    return(locList)"
      ],
      "metadata": {
        "id": "9dkpj8RvfHGl"
      },
      "execution_count": 7,
      "outputs": []
    },
    {
      "cell_type": "code",
      "source": [
        "def getWord(listToWork):\n",
        "    \"\"\" \n",
        "    Fonction qui compte le nombre de mots différents\n",
        "    listToWork : Dataframe\n",
        "    \"\"\"\n",
        "    motList=[]\n",
        "    tempData = dataStack[listToWork].copy()\n",
        "    \n",
        "    for listData in tempData:\n",
        "        for mot in listData:\n",
        "            motList.append(mot)\n",
        "            \n",
        "    dfMotList = pd.DataFrame(motList, columns=[\"Mot\"])\n",
        "    dfMotList = dfMotList.groupby(\"Mot\")\\\n",
        "        .agg(Count=pd.NamedAgg(column=\"Mot\", aggfunc=\"count\"))\n",
        "    dfMotList.sort_values(\"Count\", ascending=False, inplace=True)\n",
        "    \n",
        "    return dfMotList"
      ],
      "metadata": {
        "id": "PriDQL2YfQdY"
      },
      "execution_count": 8,
      "outputs": []
    },
    {
      "cell_type": "markdown",
      "source": [
        "Tags"
      ],
      "metadata": {
        "id": "QPxa6_hKfT5k"
      }
    },
    {
      "cell_type": "code",
      "source": [
        "dataStack['tags']=dataStack['tags'].str.replace(\"<\",\"\")\n",
        "dataStack['tags']=dataStack['tags'].str.replace(\">\",\",\")\n",
        "dataStack['tags']=dataStack['tags'].str[:-1]"
      ],
      "metadata": {
        "id": "1EYI8bQhfSCd"
      },
      "execution_count": 10,
      "outputs": []
    },
    {
      "cell_type": "code",
      "source": [
        "dataStack"
      ],
      "metadata": {
        "colab": {
          "base_uri": "https://localhost:8080/",
          "height": 641
        },
        "id": "vH_q3Dm4f73x",
        "outputId": "81f518d4-7753-4621-90f3-049ed9ed5ea3"
      },
      "execution_count": 11,
      "outputs": [
        {
          "output_type": "execute_result",
          "data": {
            "text/plain": [
              "                                                   title  \\\n",
              "0      Custom_Vision_Prediction_3.0 REST API Giving 4...   \n",
              "1        Cant get the query for AzureDiagnostics to work   \n",
              "2      Would it possible to use all memory of GPUs wi...   \n",
              "3      Command not found while using sudo [UBUNTU 19.04]   \n",
              "4      Get the prop and value of dynamically added in...   \n",
              "...                                                  ...   \n",
              "49995  Can GET, PUT and PATCH be replaced with POST H...   \n",
              "49996             C++ vector of vector of abstract class   \n",
              "49997  I can not work with zeep in python - missing e...   \n",
              "49998  Spring mvc encoding and \"???\" symbols instead ...   \n",
              "49999  mandatory-script-verify-flag-failed (Script to...   \n",
              "\n",
              "                                                    body  \\\n",
              "0      <p>I am trying to call Custom Vision Predictio...   \n",
              "1      <p>I cant get this query to work. I got this q...   \n",
              "2      <p>There is a <code>model</code> and two GPUs....   \n",
              "3      <p>When i try to run xampp server using the co...   \n",
              "4      <p>There are two input fields in my form initi...   \n",
              "...                                                  ...   \n",
              "49995  <p>POST , PUT, PATCH and GET are all different...   \n",
              "49996  <p>for a simple chess game I want to create a ...   \n",
              "49997  <p>I want to make a payment gateway in django ...   \n",
              "49998  <p>I'm doing small Spring Mvc project in InteI...   \n",
              "49999  <p>I issued 8000 to 15000 assets for 1 address...   \n",
              "\n",
              "                                                    tags  \n",
              "0      azure,azure-cognitive-services,microsoft-custo...  \n",
              "1                              azure,azure-log-analytics  \n",
              "2                                     python,gpu,pytorch  \n",
              "3                          php,apache,ubuntu,xampp,lampp  \n",
              "4                         react-native,redux,react-redux  \n",
              "...                                                  ...  \n",
              "49995                              rest,http,restful-url  \n",
              "49996                               c++,vector,2d-vector  \n",
              "49997                                      python,django  \n",
              "49998                java,html,spring-mvc,encoding,utf-8  \n",
              "49999                            transactions,blockchain  \n",
              "\n",
              "[50000 rows x 3 columns]"
            ],
            "text/html": [
              "\n",
              "  <div id=\"df-6f655405-782b-49ca-85ce-4aa498e302e9\">\n",
              "    <div class=\"colab-df-container\">\n",
              "      <div>\n",
              "<style scoped>\n",
              "    .dataframe tbody tr th:only-of-type {\n",
              "        vertical-align: middle;\n",
              "    }\n",
              "\n",
              "    .dataframe tbody tr th {\n",
              "        vertical-align: top;\n",
              "    }\n",
              "\n",
              "    .dataframe thead th {\n",
              "        text-align: right;\n",
              "    }\n",
              "</style>\n",
              "<table border=\"1\" class=\"dataframe\">\n",
              "  <thead>\n",
              "    <tr style=\"text-align: right;\">\n",
              "      <th></th>\n",
              "      <th>title</th>\n",
              "      <th>body</th>\n",
              "      <th>tags</th>\n",
              "    </tr>\n",
              "  </thead>\n",
              "  <tbody>\n",
              "    <tr>\n",
              "      <th>0</th>\n",
              "      <td>Custom_Vision_Prediction_3.0 REST API Giving 4...</td>\n",
              "      <td>&lt;p&gt;I am trying to call Custom Vision Predictio...</td>\n",
              "      <td>azure,azure-cognitive-services,microsoft-custo...</td>\n",
              "    </tr>\n",
              "    <tr>\n",
              "      <th>1</th>\n",
              "      <td>Cant get the query for AzureDiagnostics to work</td>\n",
              "      <td>&lt;p&gt;I cant get this query to work. I got this q...</td>\n",
              "      <td>azure,azure-log-analytics</td>\n",
              "    </tr>\n",
              "    <tr>\n",
              "      <th>2</th>\n",
              "      <td>Would it possible to use all memory of GPUs wi...</td>\n",
              "      <td>&lt;p&gt;There is a &lt;code&gt;model&lt;/code&gt; and two GPUs....</td>\n",
              "      <td>python,gpu,pytorch</td>\n",
              "    </tr>\n",
              "    <tr>\n",
              "      <th>3</th>\n",
              "      <td>Command not found while using sudo [UBUNTU 19.04]</td>\n",
              "      <td>&lt;p&gt;When i try to run xampp server using the co...</td>\n",
              "      <td>php,apache,ubuntu,xampp,lampp</td>\n",
              "    </tr>\n",
              "    <tr>\n",
              "      <th>4</th>\n",
              "      <td>Get the prop and value of dynamically added in...</td>\n",
              "      <td>&lt;p&gt;There are two input fields in my form initi...</td>\n",
              "      <td>react-native,redux,react-redux</td>\n",
              "    </tr>\n",
              "    <tr>\n",
              "      <th>...</th>\n",
              "      <td>...</td>\n",
              "      <td>...</td>\n",
              "      <td>...</td>\n",
              "    </tr>\n",
              "    <tr>\n",
              "      <th>49995</th>\n",
              "      <td>Can GET, PUT and PATCH be replaced with POST H...</td>\n",
              "      <td>&lt;p&gt;POST , PUT, PATCH and GET are all different...</td>\n",
              "      <td>rest,http,restful-url</td>\n",
              "    </tr>\n",
              "    <tr>\n",
              "      <th>49996</th>\n",
              "      <td>C++ vector of vector of abstract class</td>\n",
              "      <td>&lt;p&gt;for a simple chess game I want to create a ...</td>\n",
              "      <td>c++,vector,2d-vector</td>\n",
              "    </tr>\n",
              "    <tr>\n",
              "      <th>49997</th>\n",
              "      <td>I can not work with zeep in python - missing e...</td>\n",
              "      <td>&lt;p&gt;I want to make a payment gateway in django ...</td>\n",
              "      <td>python,django</td>\n",
              "    </tr>\n",
              "    <tr>\n",
              "      <th>49998</th>\n",
              "      <td>Spring mvc encoding and \"???\" symbols instead ...</td>\n",
              "      <td>&lt;p&gt;I'm doing small Spring Mvc project in InteI...</td>\n",
              "      <td>java,html,spring-mvc,encoding,utf-8</td>\n",
              "    </tr>\n",
              "    <tr>\n",
              "      <th>49999</th>\n",
              "      <td>mandatory-script-verify-flag-failed (Script to...</td>\n",
              "      <td>&lt;p&gt;I issued 8000 to 15000 assets for 1 address...</td>\n",
              "      <td>transactions,blockchain</td>\n",
              "    </tr>\n",
              "  </tbody>\n",
              "</table>\n",
              "<p>50000 rows × 3 columns</p>\n",
              "</div>\n",
              "      <button class=\"colab-df-convert\" onclick=\"convertToInteractive('df-6f655405-782b-49ca-85ce-4aa498e302e9')\"\n",
              "              title=\"Convert this dataframe to an interactive table.\"\n",
              "              style=\"display:none;\">\n",
              "        \n",
              "  <svg xmlns=\"http://www.w3.org/2000/svg\" height=\"24px\"viewBox=\"0 0 24 24\"\n",
              "       width=\"24px\">\n",
              "    <path d=\"M0 0h24v24H0V0z\" fill=\"none\"/>\n",
              "    <path d=\"M18.56 5.44l.94 2.06.94-2.06 2.06-.94-2.06-.94-.94-2.06-.94 2.06-2.06.94zm-11 1L8.5 8.5l.94-2.06 2.06-.94-2.06-.94L8.5 2.5l-.94 2.06-2.06.94zm10 10l.94 2.06.94-2.06 2.06-.94-2.06-.94-.94-2.06-.94 2.06-2.06.94z\"/><path d=\"M17.41 7.96l-1.37-1.37c-.4-.4-.92-.59-1.43-.59-.52 0-1.04.2-1.43.59L10.3 9.45l-7.72 7.72c-.78.78-.78 2.05 0 2.83L4 21.41c.39.39.9.59 1.41.59.51 0 1.02-.2 1.41-.59l7.78-7.78 2.81-2.81c.8-.78.8-2.07 0-2.86zM5.41 20L4 18.59l7.72-7.72 1.47 1.35L5.41 20z\"/>\n",
              "  </svg>\n",
              "      </button>\n",
              "      \n",
              "  <style>\n",
              "    .colab-df-container {\n",
              "      display:flex;\n",
              "      flex-wrap:wrap;\n",
              "      gap: 12px;\n",
              "    }\n",
              "\n",
              "    .colab-df-convert {\n",
              "      background-color: #E8F0FE;\n",
              "      border: none;\n",
              "      border-radius: 50%;\n",
              "      cursor: pointer;\n",
              "      display: none;\n",
              "      fill: #1967D2;\n",
              "      height: 32px;\n",
              "      padding: 0 0 0 0;\n",
              "      width: 32px;\n",
              "    }\n",
              "\n",
              "    .colab-df-convert:hover {\n",
              "      background-color: #E2EBFA;\n",
              "      box-shadow: 0px 1px 2px rgba(60, 64, 67, 0.3), 0px 1px 3px 1px rgba(60, 64, 67, 0.15);\n",
              "      fill: #174EA6;\n",
              "    }\n",
              "\n",
              "    [theme=dark] .colab-df-convert {\n",
              "      background-color: #3B4455;\n",
              "      fill: #D2E3FC;\n",
              "    }\n",
              "\n",
              "    [theme=dark] .colab-df-convert:hover {\n",
              "      background-color: #434B5C;\n",
              "      box-shadow: 0px 1px 3px 1px rgba(0, 0, 0, 0.15);\n",
              "      filter: drop-shadow(0px 1px 2px rgba(0, 0, 0, 0.3));\n",
              "      fill: #FFFFFF;\n",
              "    }\n",
              "  </style>\n",
              "\n",
              "      <script>\n",
              "        const buttonEl =\n",
              "          document.querySelector('#df-6f655405-782b-49ca-85ce-4aa498e302e9 button.colab-df-convert');\n",
              "        buttonEl.style.display =\n",
              "          google.colab.kernel.accessAllowed ? 'block' : 'none';\n",
              "\n",
              "        async function convertToInteractive(key) {\n",
              "          const element = document.querySelector('#df-6f655405-782b-49ca-85ce-4aa498e302e9');\n",
              "          const dataTable =\n",
              "            await google.colab.kernel.invokeFunction('convertToInteractive',\n",
              "                                                     [key], {});\n",
              "          if (!dataTable) return;\n",
              "\n",
              "          const docLinkHtml = 'Like what you see? Visit the ' +\n",
              "            '<a target=\"_blank\" href=https://colab.research.google.com/notebooks/data_table.ipynb>data table notebook</a>'\n",
              "            + ' to learn more about interactive tables.';\n",
              "          element.innerHTML = '';\n",
              "          dataTable['output_type'] = 'display_data';\n",
              "          await google.colab.output.renderOutput(dataTable, element);\n",
              "          const docLink = document.createElement('div');\n",
              "          docLink.innerHTML = docLinkHtml;\n",
              "          element.appendChild(docLink);\n",
              "        }\n",
              "      </script>\n",
              "    </div>\n",
              "  </div>\n",
              "  "
            ]
          },
          "metadata": {},
          "execution_count": 11
        }
      ]
    },
    {
      "cell_type": "code",
      "source": [
        "listTags = getListTag('tags',',')\n",
        "#listTags"
      ],
      "metadata": {
        "id": "F4LgaiMBfbq4"
      },
      "execution_count": 13,
      "outputs": []
    },
    {
      "cell_type": "code",
      "source": [
        "#On garde les 40 plus utilisés\n",
        "listTags=listTags.iloc[:40]\n",
        "#listTags"
      ],
      "metadata": {
        "id": "MSbLNBOrfitL"
      },
      "execution_count": 14,
      "outputs": []
    },
    {
      "cell_type": "code",
      "source": [
        "fig = plt.figure(figsize=(15, 10))\n",
        "\n",
        "listTags.plot(figsize=(12,8), kind=\"bar\",\n",
        "          title=\"nombre des tags\",\n",
        "          ylabel=\"Nb occurence\",\n",
        "          xlabel=\"Tags\",\n",
        "          legend=False)\n",
        "plt.xticks(np.arange(len(listTags)),listTags.index)\n",
        "plt.show()"
      ],
      "metadata": {
        "colab": {
          "base_uri": "https://localhost:8080/",
          "height": 768
        },
        "id": "Rezwgyy1gi9x",
        "outputId": "75c61c38-8d68-4d12-be60-16270bbdb24e"
      },
      "execution_count": 17,
      "outputs": [
        {
          "output_type": "display_data",
          "data": {
            "text/plain": [
              "<Figure size 1500x1000 with 0 Axes>"
            ]
          },
          "metadata": {}
        },
        {
          "output_type": "display_data",
          "data": {
            "text/plain": [
              "<Figure size 1200x800 with 1 Axes>"
            ],
            "image/png": "[encoded data removed]"
          },
          "metadata": {}
        }
      ]
    },
    {
      "cell_type": "code",
      "source": [
        "# keep top 40 tags\n",
        "dataStack['tags']=dataStack['tags'].apply(lambda x : keep_info(x,listTags))"
      ],
      "metadata": {
        "colab": {
          "base_uri": "https://localhost:8080/"
        },
        "id": "g1GngP_Lfl5g",
        "outputId": "f5884efd-05b3-4796-bd7c-152e0d1d5f9c"
      },
      "execution_count": 18,
      "outputs": [
        {
          "output_type": "stream",
          "name": "stderr",
          "text": [
            "<ipython-input-18-225677922fb2>:2: SettingWithCopyWarning: \n",
            "A value is trying to be set on a copy of a slice from a DataFrame.\n",
            "Try using .loc[row_indexer,col_indexer] = value instead\n",
            "\n",
            "See the caveats in the documentation: https://pandas.pydata.org/pandas-docs/stable/user_guide/indexing.html#returning-a-view-versus-a-copy\n",
            "  dataStack['tags']=dataStack['tags'].apply(lambda x : keep_info(x,listTags))\n"
          ]
        }
      ]
    },
    {
      "cell_type": "code",
      "source": [
        "# On garde ceux qui ont des tags\n",
        "dataStack=dataStack[dataStack['tags']!=\"\"]"
      ],
      "metadata": {
        "id": "OI7i1CyugX4b"
      },
      "execution_count": 19,
      "outputs": []
    },
    {
      "cell_type": "code",
      "source": [
        "dataStack['tags']= dataStack['tags'].str.replace(',',' ')"
      ],
      "metadata": {
        "id": "TigqhB2pguL-"
      },
      "execution_count": 20,
      "outputs": []
    },
    {
      "cell_type": "code",
      "source": [
        "dataStack['tags'].head()"
      ],
      "metadata": {
        "colab": {
          "base_uri": "https://localhost:8080/"
        },
        "id": "cymAy6OXg1AW",
        "outputId": "4efd6e03-9287-479c-d578-26f0a68c83ca"
      },
      "execution_count": 22,
      "outputs": [
        {
          "output_type": "execute_result",
          "data": {
            "text/plain": [
              "2                 python\n",
              "3                    php\n",
              "4           react-native\n",
              "5    javascript java css\n",
              "6                 python\n",
              "Name: tags, dtype: object"
            ]
          },
          "metadata": {},
          "execution_count": 22
        }
      ]
    },
    {
      "cell_type": "code",
      "source": [
        "# Tokenization\n",
        "dataStack['tags'] = dataStack['tags'].apply(nltk.tokenize.word_tokenize)"
      ],
      "metadata": {
        "id": "N9l6v1Aug63V"
      },
      "execution_count": 24,
      "outputs": []
    },
    {
      "cell_type": "markdown",
      "source": [
        "Title"
      ],
      "metadata": {
        "id": "aUJ-IgCth1Ry"
      }
    },
    {
      "cell_type": "code",
      "source": [
        "dataStack['title'] = dataStack['title'].progress_apply(lambda x : nettoyageGe(x))"
      ],
      "metadata": {
        "colab": {
          "base_uri": "https://localhost:8080/"
        },
        "id": "2l52PofxhDU_",
        "outputId": "ca1ecc24-fbc1-4da2-84bb-a7648a2c1817"
      },
      "execution_count": 25,
      "outputs": [
        {
          "output_type": "stream",
          "name": "stderr",
          "text": [
            "100%|██████████| 38019/38019 [00:00<00:00, 87842.81it/s]\n"
          ]
        }
      ]
    },
    {
      "cell_type": "code",
      "source": [
        "dataStack"
      ],
      "metadata": {
        "colab": {
          "base_uri": "https://localhost:8080/",
          "height": 424
        },
        "id": "u5i35lpzh7SS",
        "outputId": "19386c0b-9860-432d-8c82-130982312b55"
      },
      "execution_count": 33,
      "outputs": [
        {
          "output_type": "execute_result",
          "data": {
            "text/plain": [
              "                                          title  \\\n",
              "2                             memory gpus model   \n",
              "3                                        ubuntu   \n",
              "4                 prop value inputs redux react   \n",
              "5                css js web application servlet   \n",
              "6              factors analysis array dataframe   \n",
              "...                                         ...   \n",
              "49992                       android information   \n",
              "49994                    text string javascript   \n",
              "49996                     c vector vector class   \n",
              "49997                 zeep python element error   \n",
              "49998  spring mvc encoding symbols symbols html   \n",
              "\n",
              "                                                    body  \\\n",
              "2      <p>There is a <code>model</code> and two GPUs....   \n",
              "3      <p>When i try to run xampp server using the co...   \n",
              "4      <p>There are two input fields in my form initi...   \n",
              "5      <p><a href=\"https://i.stack.imgur.com/k3Vr3.pn...   \n",
              "6      <p>when doing the factor analysis with <code>f...   \n",
              "...                                                  ...   \n",
              "49992  <p>I have an <code>Galaxy S8 Android 9</code>,...   \n",
              "49994  <p>I am trying to get text from an array excep...   \n",
              "49996  <p>for a simple chess game I want to create a ...   \n",
              "49997  <p>I want to make a payment gateway in django ...   \n",
              "49998  <p>I'm doing small Spring Mvc project in InteI...   \n",
              "\n",
              "                          tags  \n",
              "2                     [python]  \n",
              "3                        [php]  \n",
              "4               [react-native]  \n",
              "5      [javascript, java, css]  \n",
              "6                     [python]  \n",
              "...                        ...  \n",
              "49992                [android]  \n",
              "49994             [javascript]  \n",
              "49996                    [c++]  \n",
              "49997         [python, django]  \n",
              "49998             [java, html]  \n",
              "\n",
              "[38019 rows x 3 columns]"
            ],
            "text/html": [
              "\n",
              "  <div id=\"df-5b4c880e-c056-4a5a-b4cd-9cba56a75eff\">\n",
              "    <div class=\"colab-df-container\">\n",
              "      <div>\n",
              "<style scoped>\n",
              "    .dataframe tbody tr th:only-of-type {\n",
              "        vertical-align: middle;\n",
              "    }\n",
              "\n",
              "    .dataframe tbody tr th {\n",
              "        vertical-align: top;\n",
              "    }\n",
              "\n",
              "    .dataframe thead th {\n",
              "        text-align: right;\n",
              "    }\n",
              "</style>\n",
              "<table border=\"1\" class=\"dataframe\">\n",
              "  <thead>\n",
              "    <tr style=\"text-align: right;\">\n",
              "      <th></th>\n",
              "      <th>title</th>\n",
              "      <th>body</th>\n",
              "      <th>tags</th>\n",
              "    </tr>\n",
              "  </thead>\n",
              "  <tbody>\n",
              "    <tr>\n",
              "      <th>2</th>\n",
              "      <td>memory gpus model</td>\n",
              "      <td>&lt;p&gt;There is a &lt;code&gt;model&lt;/code&gt; and two GPUs....</td>\n",
              "      <td>[python]</td>\n",
              "    </tr>\n",
              "    <tr>\n",
              "      <th>3</th>\n",
              "      <td>ubuntu</td>\n",
              "      <td>&lt;p&gt;When i try to run xampp server using the co...</td>\n",
              "      <td>[php]</td>\n",
              "    </tr>\n",
              "    <tr>\n",
              "      <th>4</th>\n",
              "      <td>prop value inputs redux react</td>\n",
              "      <td>&lt;p&gt;There are two input fields in my form initi...</td>\n",
              "      <td>[react-native]</td>\n",
              "    </tr>\n",
              "    <tr>\n",
              "      <th>5</th>\n",
              "      <td>css js web application servlet</td>\n",
              "      <td>&lt;p&gt;&lt;a href=\"https://i.stack.imgur.com/k3Vr3.pn...</td>\n",
              "      <td>[javascript, java, css]</td>\n",
              "    </tr>\n",
              "    <tr>\n",
              "      <th>6</th>\n",
              "      <td>factors analysis array dataframe</td>\n",
              "      <td>&lt;p&gt;when doing the factor analysis with &lt;code&gt;f...</td>\n",
              "      <td>[python]</td>\n",
              "    </tr>\n",
              "    <tr>\n",
              "      <th>...</th>\n",
              "      <td>...</td>\n",
              "      <td>...</td>\n",
              "      <td>...</td>\n",
              "    </tr>\n",
              "    <tr>\n",
              "      <th>49992</th>\n",
              "      <td>android information</td>\n",
              "      <td>&lt;p&gt;I have an &lt;code&gt;Galaxy S8 Android 9&lt;/code&gt;,...</td>\n",
              "      <td>[android]</td>\n",
              "    </tr>\n",
              "    <tr>\n",
              "      <th>49994</th>\n",
              "      <td>text string javascript</td>\n",
              "      <td>&lt;p&gt;I am trying to get text from an array excep...</td>\n",
              "      <td>[javascript]</td>\n",
              "    </tr>\n",
              "    <tr>\n",
              "      <th>49996</th>\n",
              "      <td>c vector vector class</td>\n",
              "      <td>&lt;p&gt;for a simple chess game I want to create a ...</td>\n",
              "      <td>[c++]</td>\n",
              "    </tr>\n",
              "    <tr>\n",
              "      <th>49997</th>\n",
              "      <td>zeep python element error</td>\n",
              "      <td>&lt;p&gt;I want to make a payment gateway in django ...</td>\n",
              "      <td>[python, django]</td>\n",
              "    </tr>\n",
              "    <tr>\n",
              "      <th>49998</th>\n",
              "      <td>spring mvc encoding symbols symbols html</td>\n",
              "      <td>&lt;p&gt;I'm doing small Spring Mvc project in InteI...</td>\n",
              "      <td>[java, html]</td>\n",
              "    </tr>\n",
              "  </tbody>\n",
              "</table>\n",
              "<p>38019 rows × 3 columns</p>\n",
              "</div>\n",
              "      <button class=\"colab-df-convert\" onclick=\"convertToInteractive('df-5b4c880e-c056-4a5a-b4cd-9cba56a75eff')\"\n",
              "              title=\"Convert this dataframe to an interactive table.\"\n",
              "              style=\"display:none;\">\n",
              "        \n",
              "  <svg xmlns=\"http://www.w3.org/2000/svg\" height=\"24px\"viewBox=\"0 0 24 24\"\n",
              "       width=\"24px\">\n",
              "    <path d=\"M0 0h24v24H0V0z\" fill=\"none\"/>\n",
              "    <path d=\"M18.56 5.44l.94 2.06.94-2.06 2.06-.94-2.06-.94-.94-2.06-.94 2.06-2.06.94zm-11 1L8.5 8.5l.94-2.06 2.06-.94-2.06-.94L8.5 2.5l-.94 2.06-2.06.94zm10 10l.94 2.06.94-2.06 2.06-.94-2.06-.94-.94-2.06-.94 2.06-2.06.94z\"/><path d=\"M17.41 7.96l-1.37-1.37c-.4-.4-.92-.59-1.43-.59-.52 0-1.04.2-1.43.59L10.3 9.45l-7.72 7.72c-.78.78-.78 2.05 0 2.83L4 21.41c.39.39.9.59 1.41.59.51 0 1.02-.2 1.41-.59l7.78-7.78 2.81-2.81c.8-.78.8-2.07 0-2.86zM5.41 20L4 18.59l7.72-7.72 1.47 1.35L5.41 20z\"/>\n",
              "  </svg>\n",
              "      </button>\n",
              "      \n",
              "  <style>\n",
              "    .colab-df-container {\n",
              "      display:flex;\n",
              "      flex-wrap:wrap;\n",
              "      gap: 12px;\n",
              "    }\n",
              "\n",
              "    .colab-df-convert {\n",
              "      background-color: #E8F0FE;\n",
              "      border: none;\n",
              "      border-radius: 50%;\n",
              "      cursor: pointer;\n",
              "      display: none;\n",
              "      fill: #1967D2;\n",
              "      height: 32px;\n",
              "      padding: 0 0 0 0;\n",
              "      width: 32px;\n",
              "    }\n",
              "\n",
              "    .colab-df-convert:hover {\n",
              "      background-color: #E2EBFA;\n",
              "      box-shadow: 0px 1px 2px rgba(60, 64, 67, 0.3), 0px 1px 3px 1px rgba(60, 64, 67, 0.15);\n",
              "      fill: #174EA6;\n",
              "    }\n",
              "\n",
              "    [theme=dark] .colab-df-convert {\n",
              "      background-color: #3B4455;\n",
              "      fill: #D2E3FC;\n",
              "    }\n",
              "\n",
              "    [theme=dark] .colab-df-convert:hover {\n",
              "      background-color: #434B5C;\n",
              "      box-shadow: 0px 1px 3px 1px rgba(0, 0, 0, 0.15);\n",
              "      filter: drop-shadow(0px 1px 2px rgba(0, 0, 0, 0.3));\n",
              "      fill: #FFFFFF;\n",
              "    }\n",
              "  </style>\n",
              "\n",
              "      <script>\n",
              "        const buttonEl =\n",
              "          document.querySelector('#df-5b4c880e-c056-4a5a-b4cd-9cba56a75eff button.colab-df-convert');\n",
              "        buttonEl.style.display =\n",
              "          google.colab.kernel.accessAllowed ? 'block' : 'none';\n",
              "\n",
              "        async function convertToInteractive(key) {\n",
              "          const element = document.querySelector('#df-5b4c880e-c056-4a5a-b4cd-9cba56a75eff');\n",
              "          const dataTable =\n",
              "            await google.colab.kernel.invokeFunction('convertToInteractive',\n",
              "                                                     [key], {});\n",
              "          if (!dataTable) return;\n",
              "\n",
              "          const docLinkHtml = 'Like what you see? Visit the ' +\n",
              "            '<a target=\"_blank\" href=https://colab.research.google.com/notebooks/data_table.ipynb>data table notebook</a>'\n",
              "            + ' to learn more about interactive tables.';\n",
              "          element.innerHTML = '';\n",
              "          dataTable['output_type'] = 'display_data';\n",
              "          await google.colab.output.renderOutput(dataTable, element);\n",
              "          const docLink = document.createElement('div');\n",
              "          docLink.innerHTML = docLinkHtml;\n",
              "          element.appendChild(docLink);\n",
              "        }\n",
              "      </script>\n",
              "    </div>\n",
              "  </div>\n",
              "  "
            ]
          },
          "metadata": {},
          "execution_count": 33
        }
      ]
    },
    {
      "cell_type": "code",
      "source": [
        "dataStack['title'].head()"
      ],
      "metadata": {
        "colab": {
          "base_uri": "https://localhost:8080/"
        },
        "id": "yQ5gkgjpiGHd",
        "outputId": "70036520-2e73-42f6-f79f-b038dea7f151"
      },
      "execution_count": 27,
      "outputs": [
        {
          "output_type": "execute_result",
          "data": {
            "text/plain": [
              "2    would it possible to use all memory of gpus wi...\n",
              "3            command not found while using sudo ubuntu\n",
              "4    get the prop and value of dynamically added in...\n",
              "5    rendering css and js in a java web application...\n",
              "6    how to map the factors analysis result from ar...\n",
              "Name: title, dtype: object"
            ]
          },
          "metadata": {},
          "execution_count": 27
        }
      ]
    },
    {
      "cell_type": "code",
      "source": [
        "dataStack['title'].head(20)"
      ],
      "metadata": {
        "colab": {
          "base_uri": "https://localhost:8080/"
        },
        "id": "C5jOq-MxiLFd",
        "outputId": "dcbdffd6-623a-4eae-e9f0-380992eac0fc"
      },
      "execution_count": 28,
      "outputs": [
        {
          "output_type": "execute_result",
          "data": {
            "text/plain": [
              "2     would it possible to use all memory of gpus wi...\n",
              "3             command not found while using sudo ubuntu\n",
              "4     get the prop and value of dynamically added in...\n",
              "5     rendering css and js in a java web application...\n",
              "6     how to map the factors analysis result from ar...\n",
              "7        how to output all members of my list correctly\n",
              "9     count of value of a field not for other values...\n",
              "10          python read csv from bucket with import csv\n",
              "11    code looping through the column but doesnt add...\n",
              "12    how to get generic type of list or if it is im...\n",
              "13    how to pass props of redirect in enzyme test case\n",
              "14    react component and css style items in the sam...\n",
              "16    its possible we can use external css file afte...\n",
              "18      dynamic link behaviour with no deep link mapped\n",
              "19    how to convert from a listcomprehension with b...\n",
              "20    __nscfstring unrecognized selector sent to ins...\n",
              "22    how do i return in a function two different li...\n",
              "23    a windows version image is incompatible with a...\n",
              "24    how to perform a check for duplication in acco...\n",
              "25    how to create the matrix for chord diagram bas...\n",
              "Name: title, dtype: object"
            ]
          },
          "metadata": {},
          "execution_count": 28
        }
      ]
    },
    {
      "cell_type": "code",
      "source": [
        "nlp = spacy.load('en_core_web_sm')\n",
        "pos_list = [\"NOUN\",\"PROPN\"]"
      ],
      "metadata": {
        "id": "uZiFcxbziR5l"
      },
      "execution_count": 29,
      "outputs": []
    },
    {
      "cell_type": "code",
      "source": [
        "# On garde nom et prono\n",
        "def keepNomEtPronom(info):\n",
        "    doc = nlp(info)\n",
        "    list_text_row = []\n",
        "    for token in doc:\n",
        "        if(token.pos_ in pos_list):\n",
        "            list_text_row.append(token.text)\n",
        "    list_text = \" \".join(list_text_row)\n",
        "    list_text = list_text.replace(\"c #\", \"c#\")\n",
        "    list_text_row = []\n",
        "    return list_text"
      ],
      "metadata": {
        "id": "6CkHEGQZiTQx"
      },
      "execution_count": 30,
      "outputs": []
    },
    {
      "cell_type": "code",
      "source": [
        "dataStack['title'] = dataStack['title'].progress_apply(lambda x : keepNomEtPronom(x))"
      ],
      "metadata": {
        "colab": {
          "base_uri": "https://localhost:8080/"
        },
        "id": "_ewMiaWIiWvw",
        "outputId": "15c06b1e-340b-4d19-fe18-a922f380d707"
      },
      "execution_count": 32,
      "outputs": [
        {
          "output_type": "stream",
          "name": "stderr",
          "text": [
            "100%|██████████| 38019/38019 [03:35<00:00, 176.18it/s]\n"
          ]
        }
      ]
    },
    {
      "cell_type": "code",
      "source": [
        "dataStack['title'].head(20)"
      ],
      "metadata": {
        "colab": {
          "base_uri": "https://localhost:8080/"
        },
        "id": "0GZkg9LSikaE",
        "outputId": "3ae26d89-432c-4c11-eaa9-0e4e54ac07bf"
      },
      "execution_count": 34,
      "outputs": [
        {
          "output_type": "execute_result",
          "data": {
            "text/plain": [
              "2                                     memory gpus model\n",
              "3                                                ubuntu\n",
              "4                         prop value inputs redux react\n",
              "5                        css js web application servlet\n",
              "6                      factors analysis array dataframe\n",
              "7                                          members list\n",
              "9              count value field values query case stmt\n",
              "10                         python csv bucket import csv\n",
              "11                             code column result table\n",
              "12                                       type list task\n",
              "13                             props redirect test case\n",
              "14                        component style items element\n",
              "16                                         css file npm\n",
              "18                                  link behaviour link\n",
              "19    listcomprehension forin ifin code loops condit...\n",
              "20                                    selector instance\n",
              "22                                       function lists\n",
              "23                           windows version image host\n",
              "24    check duplication account number field contact...\n",
              "25                   matrix chord diagram coloumn value\n",
              "Name: title, dtype: object"
            ]
          },
          "metadata": {},
          "execution_count": 34
        }
      ]
    },
    {
      "cell_type": "code",
      "source": [
        "# Tokenization\n",
        "dataStack['title'] = dataStack['title'].apply(nltk.tokenize.word_tokenize)"
      ],
      "metadata": {
        "id": "W-6DpZJDilgR"
      },
      "execution_count": 35,
      "outputs": []
    },
    {
      "cell_type": "code",
      "source": [
        "dataStack['title'].head(20)"
      ],
      "metadata": {
        "colab": {
          "base_uri": "https://localhost:8080/"
        },
        "id": "PrOCm2QXippK",
        "outputId": "aad5eb46-63eb-4b14-f254-5ce8dde48612"
      },
      "execution_count": 36,
      "outputs": [
        {
          "output_type": "execute_result",
          "data": {
            "text/plain": [
              "2                                 [memory, gpus, model]\n",
              "3                                              [ubuntu]\n",
              "4                   [prop, value, inputs, redux, react]\n",
              "5                  [css, js, web, application, servlet]\n",
              "6                 [factors, analysis, array, dataframe]\n",
              "7                                       [members, list]\n",
              "9      [count, value, field, values, query, case, stmt]\n",
              "10                   [python, csv, bucket, import, csv]\n",
              "11                        [code, column, result, table]\n",
              "12                                   [type, list, task]\n",
              "13                        [props, redirect, test, case]\n",
              "14                   [component, style, items, element]\n",
              "16                                     [css, file, npm]\n",
              "18                              [link, behaviour, link]\n",
              "19    [listcomprehension, forin, ifin, code, loops, ...\n",
              "20                                 [selector, instance]\n",
              "22                                    [function, lists]\n",
              "23                      [windows, version, image, host]\n",
              "24    [check, duplication, account, number, field, c...\n",
              "25             [matrix, chord, diagram, coloumn, value]\n",
              "Name: title, dtype: object"
            ]
          },
          "metadata": {},
          "execution_count": 36
        }
      ]
    },
    {
      "cell_type": "code",
      "source": [
        "import nltk\n",
        "nltk.download('wordnet')\n",
        "# Lemmatization\n",
        "wn = nltk.WordNetLemmatizer()\n",
        "dataStack['title'] = dataStack['title'].apply(lambda x : [wn.lemmatize(word) for word in x])"
      ],
      "metadata": {
        "colab": {
          "base_uri": "https://localhost:8080/"
        },
        "id": "APGUT8moi4di",
        "outputId": "b78c8d3d-f7bb-4f08-ae0e-46dd4ca0128d"
      },
      "execution_count": 38,
      "outputs": [
        {
          "output_type": "stream",
          "name": "stderr",
          "text": [
            "[nltk_data] Downloading package wordnet to /root/nltk_data...\n"
          ]
        }
      ]
    },
    {
      "cell_type": "code",
      "source": [
        "dataStack['title'].head(20)"
      ],
      "metadata": {
        "colab": {
          "base_uri": "https://localhost:8080/"
        },
        "id": "BuxGAeMTjAQr",
        "outputId": "184d98b8-de6b-4246-bb21-e04888e87057"
      },
      "execution_count": 39,
      "outputs": [
        {
          "output_type": "execute_result",
          "data": {
            "text/plain": [
              "2                                 [memory, gpus, model]\n",
              "3                                              [ubuntu]\n",
              "4                    [prop, value, input, redux, react]\n",
              "5                    [cs, j, web, application, servlet]\n",
              "6                  [factor, analysis, array, dataframe]\n",
              "7                                        [member, list]\n",
              "9       [count, value, field, value, query, case, stmt]\n",
              "10                   [python, csv, bucket, import, csv]\n",
              "11                        [code, column, result, table]\n",
              "12                                   [type, list, task]\n",
              "13                         [prop, redirect, test, case]\n",
              "14                    [component, style, item, element]\n",
              "16                                      [cs, file, npm]\n",
              "18                              [link, behaviour, link]\n",
              "19    [listcomprehension, forin, ifin, code, loop, c...\n",
              "20                                 [selector, instance]\n",
              "22                                     [function, list]\n",
              "23                       [window, version, image, host]\n",
              "24    [check, duplication, account, number, field, c...\n",
              "25             [matrix, chord, diagram, coloumn, value]\n",
              "Name: title, dtype: object"
            ]
          },
          "metadata": {},
          "execution_count": 39
        }
      ]
    },
    {
      "cell_type": "code",
      "source": [
        "# StopWords\n",
        "sw = set()\n",
        "sw.update(tuple(nltk.corpus.stopwords.words('english')))\n",
        "\n",
        "dataStack['title'] = dataStack['title'].apply(lambda x : [mot for mot in x\n",
        "                       if mot not in sw])"
      ],
      "metadata": {
        "id": "bNRb0p-kjH6g"
      },
      "execution_count": 40,
      "outputs": []
    },
    {
      "cell_type": "code",
      "source": [
        "listTitle = getWord('title')"
      ],
      "metadata": {
        "id": "rGbubSVhjLR4"
      },
      "execution_count": 41,
      "outputs": []
    },
    {
      "cell_type": "markdown",
      "source": [
        "Body"
      ],
      "metadata": {
        "id": "POZdkmskjVdc"
      }
    },
    {
      "cell_type": "code",
      "source": [
        "# Supprimer les tag <code>\n",
        "def SuppCode(x):\n",
        "    soup = BeautifulSoup(x,\"html.parser\")\n",
        "    code_to_remove = soup.findAll(\"code\")\n",
        "    for code in code_to_remove:\n",
        "        code.replace_with(\" \")\n",
        "    return str(soup)"
      ],
      "metadata": {
        "id": "X1Oj6iJvjWv6"
      },
      "execution_count": 42,
      "outputs": []
    },
    {
      "cell_type": "code",
      "source": [
        "# Regrouper c et #\n",
        "def RegCSharp(x):\n",
        "    test = x.copy()\n",
        "    while '#' in test : \n",
        "        idx = test.index('#')\n",
        "        if(test[idx-1]=='c'):\n",
        "            test[idx]=\"c#\"\n",
        "            del(test[idx-1])\n",
        "        else:\n",
        "            del(test[idx])\n",
        "    return(test)"
      ],
      "metadata": {
        "id": "AkOn4-7Xj49r"
      },
      "execution_count": 43,
      "outputs": []
    },
    {
      "cell_type": "code",
      "source": [
        "# Delete htlm et code tags\n",
        "dataStack['body'] = dataStack['body'].apply(SuppCode)\n",
        "# Delete all html tags\n",
        "dataStack['body'] = [BeautifulSoup(text,\"html.parser\").get_text() for text in dataStack['body']]\n",
        "\n",
        "#Nettoyage général\n",
        "dataStack['body'] = dataStack['body'].progress_apply(lambda x : nettoyageGe(x))"
      ],
      "metadata": {
        "colab": {
          "base_uri": "https://localhost:8080/"
        },
        "id": "vNjWiLFTj8vA",
        "outputId": "ce63b4b8-5f4d-4738-ddde-6445655e7efe"
      },
      "execution_count": 44,
      "outputs": [
        {
          "output_type": "stream",
          "name": "stderr",
          "text": [
            "100%|██████████| 38019/38019 [00:03<00:00, 10616.90it/s]\n"
          ]
        }
      ]
    },
    {
      "cell_type": "code",
      "source": [
        "dataStack['body'] = dataStack['body'].progress_apply(lambda x : keepNomEtPronom(x))\n",
        "print(dataStack['body'].head())\n",
        "# Tokenization\n",
        "dataStack['body'] = dataStack['body'].apply(nltk.tokenize.word_tokenize)\n",
        "print(dataStack['body'].head())\n"
      ],
      "metadata": {
        "colab": {
          "base_uri": "https://localhost:8080/"
        },
        "id": "5eaLJUvkkOHF",
        "outputId": "8d5131f6-0be6-4bf5-b3b4-02c76fe97fa1"
      },
      "execution_count": 45,
      "outputs": [
        {
          "output_type": "stream",
          "name": "stderr",
          "text": [
            "100%|██████████| 38019/38019 [09:24<00:00, 67.34it/s]\n"
          ]
        },
        {
          "output_type": "stream",
          "name": "stdout",
          "text": [
            "2    gpus gpu image memory error memory image thing...\n",
            "3            xampp server command xampp command result\n",
            "4    input fields form button fields redux difficul...\n",
            "5    project structure intellij idea java web appli...\n",
            "6    factor analysis lib result array number variab...\n",
            "Name: body, dtype: object\n",
            "2    [gpus, gpu, image, memory, error, memory, imag...\n",
            "3     [xampp, server, command, xampp, command, result]\n",
            "4    [input, fields, form, button, fields, redux, d...\n",
            "5    [project, structure, intellij, idea, java, web...\n",
            "6    [factor, analysis, lib, result, array, number,...\n",
            "Name: body, dtype: object\n"
          ]
        }
      ]
    },
    {
      "cell_type": "code",
      "source": [
        "dataStack['body']=dataStack['body'].apply(lambda x : RegCSharp(x))\n",
        "print(dataStack['body'].head())"
      ],
      "metadata": {
        "colab": {
          "base_uri": "https://localhost:8080/"
        },
        "id": "9_pz1di-kbPA",
        "outputId": "f4e0988a-bcec-44dd-9b00-ea1741dc299e"
      },
      "execution_count": 46,
      "outputs": [
        {
          "output_type": "stream",
          "name": "stdout",
          "text": [
            "2    [gpus, gpu, image, memory, error, memory, imag...\n",
            "3     [xampp, server, command, xampp, command, result]\n",
            "4    [input, fields, form, button, fields, redux, d...\n",
            "5    [project, structure, intellij, idea, java, web...\n",
            "6    [factor, analysis, lib, result, array, number,...\n",
            "Name: body, dtype: object\n"
          ]
        }
      ]
    },
    {
      "cell_type": "code",
      "source": [
        "# Lemmatizer\n",
        "wn = nltk.WordNetLemmatizer()\n",
        "dataStack['body'] = dataStack['body'].apply(lambda x : [wn.lemmatize(word) for word in x])\n",
        "print(dataStack['body'].head())"
      ],
      "metadata": {
        "colab": {
          "base_uri": "https://localhost:8080/"
        },
        "id": "fUsdrBglkjhP",
        "outputId": "17d532a5-e619-4213-8aa4-73e01d5d7a17"
      },
      "execution_count": 47,
      "outputs": [
        {
          "output_type": "stream",
          "name": "stdout",
          "text": [
            "2    [gpus, gpu, image, memory, error, memory, imag...\n",
            "3     [xampp, server, command, xampp, command, result]\n",
            "4    [input, field, form, button, field, redux, dif...\n",
            "5    [project, structure, intellij, idea, java, web...\n",
            "6    [factor, analysis, lib, result, array, number,...\n",
            "Name: body, dtype: object\n"
          ]
        }
      ]
    },
    {
      "cell_type": "code",
      "source": [
        "# StopWords\n",
        "sw = set()\n",
        "sw.update(tuple(nltk.corpus.stopwords.words('english')))\n",
        "\n",
        "dataStack['body'] = dataStack['body'].apply(lambda x : [mot for mot in x\n",
        "                       if mot not in sw])"
      ],
      "metadata": {
        "id": "PMFFhck2knQl"
      },
      "execution_count": 48,
      "outputs": []
    },
    {
      "cell_type": "code",
      "source": [
        "print(dataStack['body'].head())"
      ],
      "metadata": {
        "colab": {
          "base_uri": "https://localhost:8080/"
        },
        "id": "ZxU9C92gksRu",
        "outputId": "f03f1e8f-f912-4677-dcc7-629c549ab8ea"
      },
      "execution_count": 49,
      "outputs": [
        {
          "output_type": "stream",
          "name": "stdout",
          "text": [
            "2    [gpus, gpu, image, memory, error, memory, imag...\n",
            "3     [xampp, server, command, xampp, command, result]\n",
            "4    [input, field, form, button, field, redux, dif...\n",
            "5    [project, structure, intellij, idea, java, web...\n",
            "6    [factor, analysis, lib, result, array, number,...\n",
            "Name: body, dtype: object\n"
          ]
        }
      ]
    },
    {
      "cell_type": "code",
      "source": [
        "listBody = getWord('body')\n",
        "listBody"
      ],
      "metadata": {
        "colab": {
          "base_uri": "https://localhost:8080/",
          "height": 455
        },
        "id": "lNgA9Bn1kwOd",
        "outputId": "cb563df9-b274-49f1-fa8e-378500142bec"
      },
      "execution_count": 50,
      "outputs": [
        {
          "output_type": "execute_result",
          "data": {
            "text/plain": [
              "              Count\n",
              "Mot                \n",
              "code          21763\n",
              "error         14867\n",
              "file          14416\n",
              "data          12487\n",
              "value         11446\n",
              "...             ...\n",
              "lutron            1\n",
              "lurker            1\n",
              "lunix             1\n",
              "luncher           1\n",
              "macoswindows      1\n",
              "\n",
              "[47861 rows x 1 columns]"
            ],
            "text/html": [
              "\n",
              "  <div id=\"df-ad0a016b-6730-4b0a-bf37-f67ebaf59707\">\n",
              "    <div class=\"colab-df-container\">\n",
              "      <div>\n",
              "<style scoped>\n",
              "    .dataframe tbody tr th:only-of-type {\n",
              "        vertical-align: middle;\n",
              "    }\n",
              "\n",
              "    .dataframe tbody tr th {\n",
              "        vertical-align: top;\n",
              "    }\n",
              "\n",
              "    .dataframe thead th {\n",
              "        text-align: right;\n",
              "    }\n",
              "</style>\n",
              "<table border=\"1\" class=\"dataframe\">\n",
              "  <thead>\n",
              "    <tr style=\"text-align: right;\">\n",
              "      <th></th>\n",
              "      <th>Count</th>\n",
              "    </tr>\n",
              "    <tr>\n",
              "      <th>Mot</th>\n",
              "      <th></th>\n",
              "    </tr>\n",
              "  </thead>\n",
              "  <tbody>\n",
              "    <tr>\n",
              "      <th>code</th>\n",
              "      <td>21763</td>\n",
              "    </tr>\n",
              "    <tr>\n",
              "      <th>error</th>\n",
              "      <td>14867</td>\n",
              "    </tr>\n",
              "    <tr>\n",
              "      <th>file</th>\n",
              "      <td>14416</td>\n",
              "    </tr>\n",
              "    <tr>\n",
              "      <th>data</th>\n",
              "      <td>12487</td>\n",
              "    </tr>\n",
              "    <tr>\n",
              "      <th>value</th>\n",
              "      <td>11446</td>\n",
              "    </tr>\n",
              "    <tr>\n",
              "      <th>...</th>\n",
              "      <td>...</td>\n",
              "    </tr>\n",
              "    <tr>\n",
              "      <th>lutron</th>\n",
              "      <td>1</td>\n",
              "    </tr>\n",
              "    <tr>\n",
              "      <th>lurker</th>\n",
              "      <td>1</td>\n",
              "    </tr>\n",
              "    <tr>\n",
              "      <th>lunix</th>\n",
              "      <td>1</td>\n",
              "    </tr>\n",
              "    <tr>\n",
              "      <th>luncher</th>\n",
              "      <td>1</td>\n",
              "    </tr>\n",
              "    <tr>\n",
              "      <th>macoswindows</th>\n",
              "      <td>1</td>\n",
              "    </tr>\n",
              "  </tbody>\n",
              "</table>\n",
              "<p>47861 rows × 1 columns</p>\n",
              "</div>\n",
              "      <button class=\"colab-df-convert\" onclick=\"convertToInteractive('df-ad0a016b-6730-4b0a-bf37-f67ebaf59707')\"\n",
              "              title=\"Convert this dataframe to an interactive table.\"\n",
              "              style=\"display:none;\">\n",
              "        \n",
              "  <svg xmlns=\"http://www.w3.org/2000/svg\" height=\"24px\"viewBox=\"0 0 24 24\"\n",
              "       width=\"24px\">\n",
              "    <path d=\"M0 0h24v24H0V0z\" fill=\"none\"/>\n",
              "    <path d=\"M18.56 5.44l.94 2.06.94-2.06 2.06-.94-2.06-.94-.94-2.06-.94 2.06-2.06.94zm-11 1L8.5 8.5l.94-2.06 2.06-.94-2.06-.94L8.5 2.5l-.94 2.06-2.06.94zm10 10l.94 2.06.94-2.06 2.06-.94-2.06-.94-.94-2.06-.94 2.06-2.06.94z\"/><path d=\"M17.41 7.96l-1.37-1.37c-.4-.4-.92-.59-1.43-.59-.52 0-1.04.2-1.43.59L10.3 9.45l-7.72 7.72c-.78.78-.78 2.05 0 2.83L4 21.41c.39.39.9.59 1.41.59.51 0 1.02-.2 1.41-.59l7.78-7.78 2.81-2.81c.8-.78.8-2.07 0-2.86zM5.41 20L4 18.59l7.72-7.72 1.47 1.35L5.41 20z\"/>\n",
              "  </svg>\n",
              "      </button>\n",
              "      \n",
              "  <style>\n",
              "    .colab-df-container {\n",
              "      display:flex;\n",
              "      flex-wrap:wrap;\n",
              "      gap: 12px;\n",
              "    }\n",
              "\n",
              "    .colab-df-convert {\n",
              "      background-color: #E8F0FE;\n",
              "      border: none;\n",
              "      border-radius: 50%;\n",
              "      cursor: pointer;\n",
              "      display: none;\n",
              "      fill: #1967D2;\n",
              "      height: 32px;\n",
              "      padding: 0 0 0 0;\n",
              "      width: 32px;\n",
              "    }\n",
              "\n",
              "    .colab-df-convert:hover {\n",
              "      background-color: #E2EBFA;\n",
              "      box-shadow: 0px 1px 2px rgba(60, 64, 67, 0.3), 0px 1px 3px 1px rgba(60, 64, 67, 0.15);\n",
              "      fill: #174EA6;\n",
              "    }\n",
              "\n",
              "    [theme=dark] .colab-df-convert {\n",
              "      background-color: #3B4455;\n",
              "      fill: #D2E3FC;\n",
              "    }\n",
              "\n",
              "    [theme=dark] .colab-df-convert:hover {\n",
              "      background-color: #434B5C;\n",
              "      box-shadow: 0px 1px 3px 1px rgba(0, 0, 0, 0.15);\n",
              "      filter: drop-shadow(0px 1px 2px rgba(0, 0, 0, 0.3));\n",
              "      fill: #FFFFFF;\n",
              "    }\n",
              "  </style>\n",
              "\n",
              "      <script>\n",
              "        const buttonEl =\n",
              "          document.querySelector('#df-ad0a016b-6730-4b0a-bf37-f67ebaf59707 button.colab-df-convert');\n",
              "        buttonEl.style.display =\n",
              "          google.colab.kernel.accessAllowed ? 'block' : 'none';\n",
              "\n",
              "        async function convertToInteractive(key) {\n",
              "          const element = document.querySelector('#df-ad0a016b-6730-4b0a-bf37-f67ebaf59707');\n",
              "          const dataTable =\n",
              "            await google.colab.kernel.invokeFunction('convertToInteractive',\n",
              "                                                     [key], {});\n",
              "          if (!dataTable) return;\n",
              "\n",
              "          const docLinkHtml = 'Like what you see? Visit the ' +\n",
              "            '<a target=\"_blank\" href=https://colab.research.google.com/notebooks/data_table.ipynb>data table notebook</a>'\n",
              "            + ' to learn more about interactive tables.';\n",
              "          element.innerHTML = '';\n",
              "          dataTable['output_type'] = 'display_data';\n",
              "          await google.colab.output.renderOutput(dataTable, element);\n",
              "          const docLink = document.createElement('div');\n",
              "          docLink.innerHTML = docLinkHtml;\n",
              "          element.appendChild(docLink);\n",
              "        }\n",
              "      </script>\n",
              "    </div>\n",
              "  </div>\n",
              "  "
            ]
          },
          "metadata": {},
          "execution_count": 50
        }
      ]
    },
    {
      "cell_type": "code",
      "source": [
        "listBodyTest = getWord('body')\n",
        "print(dataStack['body'].head())"
      ],
      "metadata": {
        "colab": {
          "base_uri": "https://localhost:8080/"
        },
        "id": "DNB1I1TSk56z",
        "outputId": "70a50a3c-71ee-4299-f653-dcaa19c3b8b9"
      },
      "execution_count": 51,
      "outputs": [
        {
          "output_type": "stream",
          "name": "stdout",
          "text": [
            "2    [gpus, gpu, image, memory, error, memory, imag...\n",
            "3     [xampp, server, command, xampp, command, result]\n",
            "4    [input, field, form, button, field, redux, dif...\n",
            "5    [project, structure, intellij, idea, java, web...\n",
            "6    [factor, analysis, lib, result, array, number,...\n",
            "Name: body, dtype: object\n"
          ]
        }
      ]
    },
    {
      "cell_type": "code",
      "source": [
        "dataStack"
      ],
      "metadata": {
        "colab": {
          "base_uri": "https://localhost:8080/",
          "height": 424
        },
        "id": "3zMQX67tm36P",
        "outputId": "b29d130f-6e0d-4ba7-831a-d798efd99da9"
      },
      "execution_count": 53,
      "outputs": [
        {
          "output_type": "execute_result",
          "data": {
            "text/plain": [
              "                                               title  \\\n",
              "2                              [memory, gpus, model]   \n",
              "3                                           [ubuntu]   \n",
              "4                 [prop, value, input, redux, react]   \n",
              "5                 [cs, j, web, application, servlet]   \n",
              "6               [factor, analysis, array, dataframe]   \n",
              "...                                              ...   \n",
              "49992                         [android, information]   \n",
              "49994                     [text, string, javascript]   \n",
              "49996                     [c, vector, vector, class]   \n",
              "49997                 [zeep, python, element, error]   \n",
              "49998  [spring, mvc, encoding, symbol, symbol, html]   \n",
              "\n",
              "                                                    body  \\\n",
              "2      [gpus, gpu, image, memory, error, memory, imag...   \n",
              "3       [xampp, server, command, xampp, command, result]   \n",
              "4      [input, field, form, button, field, redux, dif...   \n",
              "5      [project, structure, intellij, idea, java, web...   \n",
              "6      [factor, analysis, lib, result, array, number,...   \n",
              "...                                                  ...   \n",
              "49992  [device, proxy, select, wifi, option, proxy, p...   \n",
              "49994          [text, array, yearmonthdate, javascripti]   \n",
              "49996  [chess, game, vector, vector, chess, piece, cl...   \n",
              "49997  [payment, gateway, django, zeep, module, payme...   \n",
              "49998  [spring, mvc, project, inteij, idea, english, ...   \n",
              "\n",
              "                          tags  \n",
              "2                     [python]  \n",
              "3                        [php]  \n",
              "4               [react-native]  \n",
              "5      [javascript, java, css]  \n",
              "6                     [python]  \n",
              "...                        ...  \n",
              "49992                [android]  \n",
              "49994             [javascript]  \n",
              "49996                    [c++]  \n",
              "49997         [python, django]  \n",
              "49998             [java, html]  \n",
              "\n",
              "[38019 rows x 3 columns]"
            ],
            "text/html": [
              "\n",
              "  <div id=\"df-26c1d65f-6d83-4f62-8810-d511391ce9b4\">\n",
              "    <div class=\"colab-df-container\">\n",
              "      <div>\n",
              "<style scoped>\n",
              "    .dataframe tbody tr th:only-of-type {\n",
              "        vertical-align: middle;\n",
              "    }\n",
              "\n",
              "    .dataframe tbody tr th {\n",
              "        vertical-align: top;\n",
              "    }\n",
              "\n",
              "    .dataframe thead th {\n",
              "        text-align: right;\n",
              "    }\n",
              "</style>\n",
              "<table border=\"1\" class=\"dataframe\">\n",
              "  <thead>\n",
              "    <tr style=\"text-align: right;\">\n",
              "      <th></th>\n",
              "      <th>title</th>\n",
              "      <th>body</th>\n",
              "      <th>tags</th>\n",
              "    </tr>\n",
              "  </thead>\n",
              "  <tbody>\n",
              "    <tr>\n",
              "      <th>2</th>\n",
              "      <td>[memory, gpus, model]</td>\n",
              "      <td>[gpus, gpu, image, memory, error, memory, imag...</td>\n",
              "      <td>[python]</td>\n",
              "    </tr>\n",
              "    <tr>\n",
              "      <th>3</th>\n",
              "      <td>[ubuntu]</td>\n",
              "      <td>[xampp, server, command, xampp, command, result]</td>\n",
              "      <td>[php]</td>\n",
              "    </tr>\n",
              "    <tr>\n",
              "      <th>4</th>\n",
              "      <td>[prop, value, input, redux, react]</td>\n",
              "      <td>[input, field, form, button, field, redux, dif...</td>\n",
              "      <td>[react-native]</td>\n",
              "    </tr>\n",
              "    <tr>\n",
              "      <th>5</th>\n",
              "      <td>[cs, j, web, application, servlet]</td>\n",
              "      <td>[project, structure, intellij, idea, java, web...</td>\n",
              "      <td>[javascript, java, css]</td>\n",
              "    </tr>\n",
              "    <tr>\n",
              "      <th>6</th>\n",
              "      <td>[factor, analysis, array, dataframe]</td>\n",
              "      <td>[factor, analysis, lib, result, array, number,...</td>\n",
              "      <td>[python]</td>\n",
              "    </tr>\n",
              "    <tr>\n",
              "      <th>...</th>\n",
              "      <td>...</td>\n",
              "      <td>...</td>\n",
              "      <td>...</td>\n",
              "    </tr>\n",
              "    <tr>\n",
              "      <th>49992</th>\n",
              "      <td>[android, information]</td>\n",
              "      <td>[device, proxy, select, wifi, option, proxy, p...</td>\n",
              "      <td>[android]</td>\n",
              "    </tr>\n",
              "    <tr>\n",
              "      <th>49994</th>\n",
              "      <td>[text, string, javascript]</td>\n",
              "      <td>[text, array, yearmonthdate, javascripti]</td>\n",
              "      <td>[javascript]</td>\n",
              "    </tr>\n",
              "    <tr>\n",
              "      <th>49996</th>\n",
              "      <td>[c, vector, vector, class]</td>\n",
              "      <td>[chess, game, vector, vector, chess, piece, cl...</td>\n",
              "      <td>[c++]</td>\n",
              "    </tr>\n",
              "    <tr>\n",
              "      <th>49997</th>\n",
              "      <td>[zeep, python, element, error]</td>\n",
              "      <td>[payment, gateway, django, zeep, module, payme...</td>\n",
              "      <td>[python, django]</td>\n",
              "    </tr>\n",
              "    <tr>\n",
              "      <th>49998</th>\n",
              "      <td>[spring, mvc, encoding, symbol, symbol, html]</td>\n",
              "      <td>[spring, mvc, project, inteij, idea, english, ...</td>\n",
              "      <td>[java, html]</td>\n",
              "    </tr>\n",
              "  </tbody>\n",
              "</table>\n",
              "<p>38019 rows × 3 columns</p>\n",
              "</div>\n",
              "      <button class=\"colab-df-convert\" onclick=\"convertToInteractive('df-26c1d65f-6d83-4f62-8810-d511391ce9b4')\"\n",
              "              title=\"Convert this dataframe to an interactive table.\"\n",
              "              style=\"display:none;\">\n",
              "        \n",
              "  <svg xmlns=\"http://www.w3.org/2000/svg\" height=\"24px\"viewBox=\"0 0 24 24\"\n",
              "       width=\"24px\">\n",
              "    <path d=\"M0 0h24v24H0V0z\" fill=\"none\"/>\n",
              "    <path d=\"M18.56 5.44l.94 2.06.94-2.06 2.06-.94-2.06-.94-.94-2.06-.94 2.06-2.06.94zm-11 1L8.5 8.5l.94-2.06 2.06-.94-2.06-.94L8.5 2.5l-.94 2.06-2.06.94zm10 10l.94 2.06.94-2.06 2.06-.94-2.06-.94-.94-2.06-.94 2.06-2.06.94z\"/><path d=\"M17.41 7.96l-1.37-1.37c-.4-.4-.92-.59-1.43-.59-.52 0-1.04.2-1.43.59L10.3 9.45l-7.72 7.72c-.78.78-.78 2.05 0 2.83L4 21.41c.39.39.9.59 1.41.59.51 0 1.02-.2 1.41-.59l7.78-7.78 2.81-2.81c.8-.78.8-2.07 0-2.86zM5.41 20L4 18.59l7.72-7.72 1.47 1.35L5.41 20z\"/>\n",
              "  </svg>\n",
              "      </button>\n",
              "      \n",
              "  <style>\n",
              "    .colab-df-container {\n",
              "      display:flex;\n",
              "      flex-wrap:wrap;\n",
              "      gap: 12px;\n",
              "    }\n",
              "\n",
              "    .colab-df-convert {\n",
              "      background-color: #E8F0FE;\n",
              "      border: none;\n",
              "      border-radius: 50%;\n",
              "      cursor: pointer;\n",
              "      display: none;\n",
              "      fill: #1967D2;\n",
              "      height: 32px;\n",
              "      padding: 0 0 0 0;\n",
              "      width: 32px;\n",
              "    }\n",
              "\n",
              "    .colab-df-convert:hover {\n",
              "      background-color: #E2EBFA;\n",
              "      box-shadow: 0px 1px 2px rgba(60, 64, 67, 0.3), 0px 1px 3px 1px rgba(60, 64, 67, 0.15);\n",
              "      fill: #174EA6;\n",
              "    }\n",
              "\n",
              "    [theme=dark] .colab-df-convert {\n",
              "      background-color: #3B4455;\n",
              "      fill: #D2E3FC;\n",
              "    }\n",
              "\n",
              "    [theme=dark] .colab-df-convert:hover {\n",
              "      background-color: #434B5C;\n",
              "      box-shadow: 0px 1px 3px 1px rgba(0, 0, 0, 0.15);\n",
              "      filter: drop-shadow(0px 1px 2px rgba(0, 0, 0, 0.3));\n",
              "      fill: #FFFFFF;\n",
              "    }\n",
              "  </style>\n",
              "\n",
              "      <script>\n",
              "        const buttonEl =\n",
              "          document.querySelector('#df-26c1d65f-6d83-4f62-8810-d511391ce9b4 button.colab-df-convert');\n",
              "        buttonEl.style.display =\n",
              "          google.colab.kernel.accessAllowed ? 'block' : 'none';\n",
              "\n",
              "        async function convertToInteractive(key) {\n",
              "          const element = document.querySelector('#df-26c1d65f-6d83-4f62-8810-d511391ce9b4');\n",
              "          const dataTable =\n",
              "            await google.colab.kernel.invokeFunction('convertToInteractive',\n",
              "                                                     [key], {});\n",
              "          if (!dataTable) return;\n",
              "\n",
              "          const docLinkHtml = 'Like what you see? Visit the ' +\n",
              "            '<a target=\"_blank\" href=https://colab.research.google.com/notebooks/data_table.ipynb>data table notebook</a>'\n",
              "            + ' to learn more about interactive tables.';\n",
              "          element.innerHTML = '';\n",
              "          dataTable['output_type'] = 'display_data';\n",
              "          await google.colab.output.renderOutput(dataTable, element);\n",
              "          const docLink = document.createElement('div');\n",
              "          docLink.innerHTML = docLinkHtml;\n",
              "          element.appendChild(docLink);\n",
              "        }\n",
              "      </script>\n",
              "    </div>\n",
              "  </div>\n",
              "  "
            ]
          },
          "metadata": {},
          "execution_count": 53
        }
      ]
    },
    {
      "cell_type": "code",
      "source": [
        "dataStack.to_csv(\"QueryResults_Clear.csv\",index=False)"
      ],
      "metadata": {
        "id": "4WR6Xn7XlIgQ"
      },
      "execution_count": 52,
      "outputs": []
    }
  ]
}